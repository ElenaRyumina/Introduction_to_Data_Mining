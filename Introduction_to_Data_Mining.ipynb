{
 "cells": [
  {
   "cell_type": "markdown",
   "metadata": {},
   "source": [
    "Задание 1. Реализовать все этапы решения задачи классификации с использованием контейнера Pipeline"
   ]
  },
  {
   "cell_type": "code",
   "execution_count": 1,
   "metadata": {},
   "outputs": [],
   "source": [
    "# импорт библиотек\n",
    "import pandas as pd\n",
    "import numpy as np\n",
    "import warnings\n",
    "import itertools\n",
    "import math\n",
    "import csv\n",
    "import matplotlib.pyplot as plt\n",
    "from sklearn.preprocessing import StandardScaler\n",
    "from sklearn.decomposition import PCA\n",
    "from sklearn.pipeline import Pipeline\n",
    "from sklearn.svm import SVC\n",
    "from sklearn.ensemble import RandomForestClassifier\n",
    "from sklearn.naive_bayes import GaussianNB\n",
    "from sklearn.tree import DecisionTreeClassifier\n",
    "from sklearn.model_selection import validation_curve, learning_curve, cross_val_score, train_test_split, GridSearchCV\n",
    "from sklearn.metrics import make_scorer, precision_score, f1_score, classification_report, confusion_matrix"
   ]
  },
  {
   "cell_type": "code",
   "execution_count": 2,
   "metadata": {},
   "outputs": [],
   "source": [
    "path = \"C:/Users/ryumi/Desktop/all_new_feature/FER2013_landmarks/test/\" # путь к файлу\n",
    "\n",
    "data = pd.read_csv(path + 'point_224.csv') # считываем файл\n",
    "\n",
    "datapoints = data['signs'].tolist()\n",
    "\n",
    "#получить признаки для обучения\n",
    "X = []\n",
    "for xseq in datapoints:\n",
    "    xx = [float(xp) for xp in xseq.split(' ')]\n",
    "    X.append(xx) # записываем значения данных в список\n",
    "\n",
    "labels = list(data['index_emotion']) # записываем значение меток в список"
   ]
  },
  {
   "cell_type": "code",
   "execution_count": 3,
   "metadata": {},
   "outputs": [],
   "source": [
    "# функция для нахождения эвклидова расстояния между интересующими точками\n",
    "def euclidean_distance(x2, x1, y2, y1):\n",
    "    return ((x2 - x1)**2 + (y2 - y1)**2)**(1/2)"
   ]
  },
  {
   "cell_type": "code",
   "execution_count": 4,
   "metadata": {},
   "outputs": [],
   "source": [
    "# находим 41 расстояние между ключевыми точками\n",
    "all_distance = []\n",
    "for i in X:\n",
    "    count = 1 \n",
    "    x = []\n",
    "    y = []\n",
    "    distance = []\n",
    "    for b in i:\n",
    "        if count%2 == 0:\n",
    "            y.append(b)\n",
    "        else:\n",
    "            x.append(b)\n",
    "        count +=1\n",
    "        # Губы\n",
    "    index_need = [[48, 54], [49,59], [50,58], [51,57], [52,56], [53,55], [48,30], [49,30], [50,30], [51,30], [52,30],\n",
    "                  [53,30], [54,30], [37,40], [38,41], [43,46], [44,47], [21, 27], [22,27], [20,27], [19,27], [23,27],\n",
    "                  [24,27], [17,39], [18,39], [19,39], [20,36], [21,36], [24,42], [25,42], [26,42], [23,45], [22,45],\n",
    "                  [48,36], [48,39], [42,54], [45,54], [49,55], [50,56], [52,58], [53,59]]\n",
    "    for j in index_need:\n",
    "\n",
    "        distance.append(round(euclidean_distance(x[j[0]], x[j[1]], y[j[0]], y[j[1]]), 2))\n",
    "    \n",
    "    all_distance.append(distance)"
   ]
  },
  {
   "cell_type": "code",
   "execution_count": 5,
   "metadata": {},
   "outputs": [],
   "source": [
    "all_distance = np.asarray(all_distance)\n",
    "labels = np.asarray(labels)"
   ]
  },
  {
   "cell_type": "code",
   "execution_count": 6,
   "metadata": {},
   "outputs": [
    {
     "name": "stdout",
     "output_type": "stream",
     "text": [
      "[330, 44, 686, 306, 331, 303, 469]\n"
     ]
    }
   ],
   "source": [
    "# проверяем сколько примеров есть на каждый класс\n",
    "labels_all = [0 for x in range(7)]\n",
    "\n",
    "for i in labels: \n",
    "    labels_all[i] += 1\n",
    "print(labels_all)\n",
    "\n",
    "name_labels = ['Angry', 'Disgusted', 'Happy', 'Sad', 'Scared', 'Surprised', 'Neutral']"
   ]
  },
  {
   "cell_type": "code",
   "execution_count": 7,
   "metadata": {},
   "outputs": [],
   "source": [
    "# разбиваем на тест и трейн\n",
    "X_train, X_test, y_train, y_test = train_test_split(all_distance, labels, test_size = 0.2, random_state = 0)"
   ]
  },
  {
   "cell_type": "code",
   "execution_count": 8,
   "metadata": {},
   "outputs": [],
   "source": [
    "# нормализуем данные\n",
    "std = StandardScaler()\n",
    "X_train_std = std.fit_transform(X_train)"
   ]
  },
  {
   "cell_type": "code",
   "execution_count": 9,
   "metadata": {},
   "outputs": [],
   "source": [
    "# используем PCA для всех признаков, для нахождения доли объясненной дисперсии \n",
    "pca = PCA(n_components=None)\n",
    "X_full = pca.fit_transform(X_train_std)"
   ]
  },
  {
   "cell_type": "code",
   "execution_count": 10,
   "metadata": {},
   "outputs": [
    {
     "data": {
      "text/plain": [
       "array([0.363, 0.56 , 0.676, 0.766, 0.82 , 0.862, 0.888, 0.907, 0.924,\n",
       "       0.935, 0.942, 0.949, 0.955, 0.961, 0.966, 0.971, 0.973, 0.976,\n",
       "       0.978, 0.98 , 0.982, 0.984, 0.985, 0.987, 0.988, 0.989, 0.991,\n",
       "       0.992, 0.993, 0.994, 0.995, 0.996, 0.997, 0.997, 0.998, 0.998,\n",
       "       0.999, 0.999, 1.   , 1.   , 1.   ])"
      ]
     },
     "execution_count": 10,
     "metadata": {},
     "output_type": "execute_result"
    }
   ],
   "source": [
    "# проверяем какое количество признаков мы можем оставить не потеряв информацию\n",
    "explained_variance_1 = np.round(np.cumsum(pca.explained_variance_ratio_),3)\n",
    "explained_variance_1"
   ]
  },
  {
   "cell_type": "markdown",
   "metadata": {},
   "source": [
    "По результатам можем заметить, что 5-8 вполне достаточно главных компонент для работы"
   ]
  },
  {
   "cell_type": "code",
   "execution_count": 11,
   "metadata": {},
   "outputs": [],
   "source": [
    "# используем контейнер Pipeline для последовательного выполнения действий, используем наивный байесвский классификатор\n",
    "pipe_lr = Pipeline([('scl', StandardScaler()),\n",
    "                    ('pca', PCA(n_components=8)),\n",
    "                    ('gaNB', GaussianNB())])"
   ]
  },
  {
   "cell_type": "code",
   "execution_count": 12,
   "metadata": {},
   "outputs": [
    {
     "data": {
      "text/plain": [
       "Pipeline(memory=None,\n",
       "         steps=[('scl',\n",
       "                 StandardScaler(copy=True, with_mean=True, with_std=True)),\n",
       "                ('pca',\n",
       "                 PCA(copy=True, iterated_power='auto', n_components=8,\n",
       "                     random_state=None, svd_solver='auto', tol=0.0,\n",
       "                     whiten=False)),\n",
       "                ('gaNB', GaussianNB(priors=None, var_smoothing=1e-09))],\n",
       "         verbose=False)"
      ]
     },
     "execution_count": 12,
     "metadata": {},
     "output_type": "execute_result"
    }
   ],
   "source": [
    "# обучаем на данных train\n",
    "pipe_lr.fit(X_train, y_train)"
   ]
  },
  {
   "cell_type": "code",
   "execution_count": 13,
   "metadata": {},
   "outputs": [],
   "source": [
    "# находим предсказания на тесловых данных\n",
    "predict = pipe_lr.predict(X_test)"
   ]
  },
  {
   "cell_type": "code",
   "execution_count": 14,
   "metadata": {},
   "outputs": [
    {
     "name": "stdout",
     "output_type": "stream",
     "text": [
      "              precision    recall  f1-score   support\n",
      "\n",
      "           0     0.3750    0.2769    0.3186        65\n",
      "           1     0.0000    0.0000    0.0000        11\n",
      "           2     0.6765    0.8333    0.7468       138\n",
      "           3     0.0714    0.0317    0.0440        63\n",
      "           4     0.3333    0.1379    0.1951        58\n",
      "           5     0.5500    0.5690    0.5593        58\n",
      "           6     0.3988    0.6436    0.4924       101\n",
      "\n",
      "    accuracy                         0.4879       494\n",
      "   macro avg     0.3436    0.3561    0.3366       494\n",
      "weighted avg     0.4327    0.4879    0.4454       494\n",
      "\n"
     ]
    }
   ],
   "source": [
    "# находим метрики для тест\n",
    "print(classification_report(y_test, predict, digits = 4))"
   ]
  },
  {
   "cell_type": "code",
   "execution_count": 15,
   "metadata": {},
   "outputs": [],
   "source": [
    "# используем контейнер Pipeline для последовательного выполнения действий, используем классификатор случаных лесов\n",
    "pipe_lr_2 = Pipeline([('scl', StandardScaler()),\n",
    "                    ('pca', PCA(n_components=8)),\n",
    "                    ('rfc', RandomForestClassifier(n_estimators=50, bootstrap = True, max_features = 'sqrt'))])"
   ]
  },
  {
   "cell_type": "code",
   "execution_count": 16,
   "metadata": {},
   "outputs": [
    {
     "data": {
      "text/plain": [
       "Pipeline(memory=None,\n",
       "         steps=[('scl',\n",
       "                 StandardScaler(copy=True, with_mean=True, with_std=True)),\n",
       "                ('pca',\n",
       "                 PCA(copy=True, iterated_power='auto', n_components=8,\n",
       "                     random_state=None, svd_solver='auto', tol=0.0,\n",
       "                     whiten=False)),\n",
       "                ('rfc',\n",
       "                 RandomForestClassifier(bootstrap=True, ccp_alpha=0.0,\n",
       "                                        class_weight=None, criterion='gini',\n",
       "                                        max_depth=None, max_features='sqrt',\n",
       "                                        max_leaf_nodes=None, max_samples=None,\n",
       "                                        min_impurity_decrease=0.0,\n",
       "                                        min_impurity_split=None,\n",
       "                                        min_samples_leaf=1, min_samples_split=2,\n",
       "                                        min_weight_fraction_leaf=0.0,\n",
       "                                        n_estimators=50, n_jobs=None,\n",
       "                                        oob_score=False, random_state=None,\n",
       "                                        verbose=0, warm_start=False))],\n",
       "         verbose=False)"
      ]
     },
     "execution_count": 16,
     "metadata": {},
     "output_type": "execute_result"
    }
   ],
   "source": [
    "# обучаем\n",
    "pipe_lr_2.fit(X_train, y_train)"
   ]
  },
  {
   "cell_type": "code",
   "execution_count": 17,
   "metadata": {},
   "outputs": [],
   "source": [
    "# находим пресказания\n",
    "predict_2 = pipe_lr_2.predict(X_test)"
   ]
  },
  {
   "cell_type": "code",
   "execution_count": 18,
   "metadata": {},
   "outputs": [
    {
     "name": "stdout",
     "output_type": "stream",
     "text": [
      "              precision    recall  f1-score   support\n",
      "\n",
      "           0     0.3676    0.3846    0.3759        65\n",
      "           1     0.0000    0.0000    0.0000        11\n",
      "           2     0.6552    0.8261    0.7308       138\n",
      "           3     0.2432    0.1429    0.1800        63\n",
      "           4     0.3333    0.1897    0.2418        58\n",
      "           5     0.5283    0.4828    0.5045        58\n",
      "           6     0.3876    0.4950    0.4348       101\n",
      "\n",
      "    accuracy                         0.4798       494\n",
      "   macro avg     0.3593    0.3601    0.3525       494\n",
      "weighted avg     0.4428    0.4798    0.4531       494\n",
      "\n"
     ]
    },
    {
     "name": "stderr",
     "output_type": "stream",
     "text": [
      "c:\\users\\ryumi\\desktop\\venv\\3_7_5\\lib\\site-packages\\sklearn\\metrics\\_classification.py:1268: UndefinedMetricWarning: Precision and F-score are ill-defined and being set to 0.0 in labels with no predicted samples. Use `zero_division` parameter to control this behavior.\n",
      "  _warn_prf(average, modifier, msg_start, len(result))\n"
     ]
    }
   ],
   "source": [
    "# выводим метрики\n",
    "print(classification_report(y_test, predict_2, digits = 4))"
   ]
  },
  {
   "cell_type": "markdown",
   "metadata": {},
   "source": [
    "Задание 2. Для классификационных моделей (SVM, деревья решений, случайный лес, наивный байесовский классификатор) реализовать к-блочную перекрестную проверку, определить наилучшие гиперпараметры, используя метод поиска по сетке гиперпараметров."
   ]
  },
  {
   "cell_type": "code",
   "execution_count": 19,
   "metadata": {},
   "outputs": [
    {
     "data": {
      "image/png": "[encoded data removed]",
      "text/plain": [
       "<Figure size 432x288 with 1 Axes>"
      ]
     },
     "metadata": {
      "needs_background": "light"
     },
     "output_type": "display_data"
    }
   ],
   "source": [
    "\n",
    "train_sizes, train_scores, test_scores = learning_curve(estimator=pipe_lr_2,\n",
    "                                                       X = X_train,\n",
    "                                                       y = y_train,\n",
    "                                                       train_sizes=np.linspace(0.1, 1.0, 10), # определяем 10 тренировочных образцов\n",
    "                                                       cv = 10, #блоков\n",
    "                                                       n_jobs=1)\n",
    "train_mean = np.mean(train_scores, axis=1)\n",
    "train_std = np.std(train_scores, axis=1)\n",
    "test_mean = np.mean(test_scores, axis=1)\n",
    "test_std = np.std(test_scores, axis=1)\n",
    "plt.plot(train_sizes, train_mean,\n",
    "        color = 'blue', marker = 'o',\n",
    "        markersize=5,\n",
    "        label = 'тренировочная верность')\n",
    "plt.fill_between(train_sizes,\n",
    "                train_mean + train_std,\n",
    "                train_mean - train_std,\n",
    "                alpha=0.15, color='blue')\n",
    "plt.plot(train_sizes, test_mean,\n",
    "        color = 'green', linestyle='--',\n",
    "        marker = 's', markersize=5,\n",
    "        label = 'проверочная верность')\n",
    "plt.fill_between(train_sizes,\n",
    "                test_mean + test_std,\n",
    "                test_mean - test_std,\n",
    "                alpha=0.15, color='green')\n",
    "plt.grid()\n",
    "plt.xlabel('Число тренировочных образцов')\n",
    "plt.ylabel('Верность')\n",
    "plt.legend(loc='lower right')\n",
    "plt.ylim([0.0, 1.3])\n",
    "plt.show()"
   ]
  },
  {
   "cell_type": "markdown",
   "metadata": {},
   "source": [
    "По рисунку можно заметить, что с увеличением числа тренировочных образцов начиная с 850 верность, то растет, то падает."
   ]
  },
  {
   "cell_type": "code",
   "execution_count": 20,
   "metadata": {},
   "outputs": [],
   "source": [
    "pipe_lr_3 = Pipeline([('scl', StandardScaler()),\n",
    "                    ('pca', PCA(n_components=8)),\n",
    "                    ('clf', RandomForestClassifier())])"
   ]
  },
  {
   "cell_type": "code",
   "execution_count": 21,
   "metadata": {},
   "outputs": [
    {
     "data": {
      "image/png": "[encoded data removed]",
      "text/plain": [
       "<Figure size 432x288 with 1 Axes>"
      ]
     },
     "metadata": {
      "needs_background": "light"
     },
     "output_type": "display_data"
    }
   ],
   "source": [
    "param_range = [1, 20, 40, 60, 80, 100]\n",
    "\n",
    "train_scores, test_scores = validation_curve(estimator=pipe_lr_3,\n",
    "                                                       X = X_train,\n",
    "                                                       y = y_train,\n",
    "                                                       param_name = 'clf__n_estimators', # '__'\n",
    "                                                       param_range=param_range,\n",
    "                                                       cv = 10)\n",
    "train_mean = np.mean(train_scores, axis=1)\n",
    "train_std = np.std(train_scores, axis=1)\n",
    "test_mean = np.mean(test_scores, axis=1)\n",
    "test_std = np.std(test_scores, axis=1)\n",
    "plt.plot(param_range, train_mean,\n",
    "        color = 'blue', marker = 'o',\n",
    "        markersize=5,\n",
    "        label = 'тренировочная верность')\n",
    "plt.fill_between(param_range,\n",
    "                train_mean + train_std,\n",
    "                train_mean - train_std,\n",
    "                alpha=0.15, color='blue')\n",
    "plt.plot(param_range, test_mean,\n",
    "        color = 'green', linestyle='--',\n",
    "        marker = 's', markersize=5,\n",
    "        label = 'проверочная верность')\n",
    "plt.fill_between(param_range,\n",
    "                test_mean + test_std,\n",
    "                test_mean - test_std,\n",
    "                alpha=0.15, color='green')\n",
    "plt.grid()\n",
    "plt.xlabel('Число тренировочных образцов')\n",
    "plt.ylabel('Верность')\n",
    "plt.legend(loc='lower right')\n",
    "plt.ylim([0.0, 1.3])\n",
    "plt.show()"
   ]
  },
  {
   "cell_type": "markdown",
   "metadata": {},
   "source": [
    "Как можно заметить по рисунку, переобучения на проверочных данных не наблюдается"
   ]
  },
  {
   "cell_type": "code",
   "execution_count": 22,
   "metadata": {},
   "outputs": [],
   "source": [
    "# test_scores"
   ]
  },
  {
   "cell_type": "markdown",
   "metadata": {},
   "source": [
    "RandomForestClassifier"
   ]
  },
  {
   "cell_type": "code",
   "execution_count": 23,
   "metadata": {},
   "outputs": [
    {
     "name": "stdout",
     "output_type": "stream",
     "text": [
      "0.4460572134076039\n",
      "{'clf__max_depth': 10, 'clf__n_estimators': 60, 'pca__n_components': 8}\n"
     ]
    }
   ],
   "source": [
    "# находим оптимальные параметры для RandomForestClassifier, используя поиск по сетке параметров\n",
    "# и k-блочную перекрестную проверку (cv = 10)\n",
    "pipe_lr_4_rfc = Pipeline([('scl', StandardScaler()),\n",
    "                    ('pca', PCA()),\n",
    "                    ('clf', RandomForestClassifier())])\n",
    "param_range_rfc = [[1, 20, 40, 60, 80, 100], [5, 8, 10, 25, 35, None], [0.1, 0.5, 1, 5, 10]]\n",
    "\n",
    "param_grid_rfc = [{'pca__n_components': param_range_rfc[1],\n",
    "               'clf__n_estimators': param_range_rfc[0],\n",
    "               'clf__max_depth': param_range_rfc[2]\n",
    "              },]\n",
    "scorer_2 = make_scorer(score_func=f1_score, average='weighted')\n",
    "gs_rfc = GridSearchCV(estimator=pipe_lr_4_rfc,\n",
    "                  param_grid=param_grid_rfc,\n",
    "                  scoring=scorer_2,\n",
    "                  verbose = 0,\n",
    "                  cv = 10)\n",
    "\n",
    "# scores = cross_val_score(gs, \n",
    "#                          X = X_train,\n",
    "#                          y = y_train,\n",
    "#                          scoring=scorer_2,\n",
    "#                          cv = 2)\n",
    "# print('Перекрестно-проверочная верность: {:.0%} +/- {:.0%}'.format(np.mean(scores), np.std(scores)))\n",
    "gs_rfc = gs_rfc.fit(X_train, y_train)\n",
    "print(gs_rfc.best_score_)\n",
    "print(gs_rfc.best_params_)"
   ]
  },
  {
   "cell_type": "code",
   "execution_count": 24,
   "metadata": {},
   "outputs": [],
   "source": [
    "# задаем лучшие параметры для работы с тестовыми данными\n",
    "clf_rfc=gs_rfc.best_estimator_\n",
    "# обучаем на train\n",
    "clf_rfc_train=clf_rfc.fit(X_train, y_train)\n",
    "# находим предскания для test\n",
    "predict_rfc = clf_rfc_train.predict(X_test)"
   ]
  },
  {
   "cell_type": "code",
   "execution_count": 25,
   "metadata": {},
   "outputs": [
    {
     "name": "stdout",
     "output_type": "stream",
     "text": [
      "              precision    recall  f1-score   support\n",
      "\n",
      "           0     0.3636    0.3692    0.3664        65\n",
      "           1     0.0000    0.0000    0.0000        11\n",
      "           2     0.6647    0.8188    0.7338       138\n",
      "           3     0.2800    0.1111    0.1591        63\n",
      "           4     0.2727    0.1034    0.1500        58\n",
      "           5     0.5536    0.5345    0.5439        58\n",
      "           6     0.4194    0.6436    0.5078       101\n",
      "\n",
      "    accuracy                         0.4980       494\n",
      "   macro avg     0.3649    0.3687    0.3516       494\n",
      "weighted avg     0.4520    0.4980    0.4588       494\n",
      "\n"
     ]
    },
    {
     "name": "stderr",
     "output_type": "stream",
     "text": [
      "c:\\users\\ryumi\\desktop\\venv\\3_7_5\\lib\\site-packages\\sklearn\\metrics\\_classification.py:1268: UndefinedMetricWarning: Precision and F-score are ill-defined and being set to 0.0 in labels with no predicted samples. Use `zero_division` parameter to control this behavior.\n",
      "  _warn_prf(average, modifier, msg_start, len(result))\n"
     ]
    }
   ],
   "source": [
    "# выводим метрики\n",
    "print(classification_report(y_test, predict_rfc, digits = 4))"
   ]
  },
  {
   "cell_type": "markdown",
   "metadata": {},
   "source": [
    "GaussianNB"
   ]
  },
  {
   "cell_type": "code",
   "execution_count": 26,
   "metadata": {},
   "outputs": [
    {
     "name": "stdout",
     "output_type": "stream",
     "text": [
      "0.46121001014264396\n",
      "{'clf__var_smoothing': 1e-09, 'pca__n_components': 35}\n"
     ]
    }
   ],
   "source": [
    "# находим оптимальные параметры для RandomForestClassifier, используя поиск по сетке параметров\n",
    "# и k-блочную перекрестную проверку (cv = 10)\n",
    "pipe_nb = Pipeline([('scl', StandardScaler()),\n",
    "                    ('pca', PCA()),\n",
    "                    ('clf', GaussianNB())])\n",
    "param_range_nb = [[1e-9, 1e-7, 1e-5, 1e-3, 1e-1], [5, 8, 10, 25, 35, None]]\n",
    "\n",
    "param_grid_nb = [{'pca__n_components': param_range_nb[1],\n",
    "               'clf__var_smoothing': param_range_nb[0],\n",
    "              },]\n",
    "scorer_2 = make_scorer(score_func=f1_score, average='weighted')\n",
    "gs_nb = GridSearchCV(estimator=pipe_nb,\n",
    "                  param_grid=param_grid_nb,\n",
    "                  scoring=scorer_2,\n",
    "                  verbose = 0,\n",
    "                  cv = 10)\n",
    "\n",
    "# scores = cross_val_score(gs, \n",
    "#                          X = X_train,\n",
    "#                          y = y_train,\n",
    "#                          scoring=scorer_2,\n",
    "#                          cv = 2)\n",
    "# print('Перекрестно-проверочная верность: {:.0%} +/- {:.0%}'.format(np.mean(scores), np.std(scores)))\n",
    "gs_nb = gs_nb.fit(X_train, y_train)\n",
    "print(gs_nb.best_score_)\n",
    "print(gs_nb.best_params_)"
   ]
  },
  {
   "cell_type": "code",
   "execution_count": 27,
   "metadata": {},
   "outputs": [],
   "source": [
    "# задаем лучшие параметры для работы с тестовыми данными\n",
    "clf_nb=gs_nb.best_estimator_\n",
    "# обучаем на train\n",
    "clf_nb_train=clf_nb.fit(X_train, y_train)\n",
    "# находим предскания для test\n",
    "predict_nb = clf_nb_train.predict(X_test)"
   ]
  },
  {
   "cell_type": "code",
   "execution_count": 28,
   "metadata": {},
   "outputs": [
    {
     "name": "stdout",
     "output_type": "stream",
     "text": [
      "              precision    recall  f1-score   support\n",
      "\n",
      "           0     0.4286    0.3692    0.3967        65\n",
      "           1     0.0000    0.0000    0.0000        11\n",
      "           2     0.7260    0.7681    0.7465       138\n",
      "           3     0.1500    0.0952    0.1165        63\n",
      "           4     0.2857    0.2069    0.2400        58\n",
      "           5     0.5410    0.5690    0.5546        58\n",
      "           6     0.4228    0.6238    0.5040       101\n",
      "\n",
      "    accuracy                         0.4939       494\n",
      "   macro avg     0.3649    0.3760    0.3655       494\n",
      "weighted avg     0.4618    0.4939    0.4719       494\n",
      "\n"
     ]
    },
    {
     "name": "stderr",
     "output_type": "stream",
     "text": [
      "c:\\users\\ryumi\\desktop\\venv\\3_7_5\\lib\\site-packages\\sklearn\\metrics\\_classification.py:1268: UndefinedMetricWarning: Precision and F-score are ill-defined and being set to 0.0 in labels with no predicted samples. Use `zero_division` parameter to control this behavior.\n",
      "  _warn_prf(average, modifier, msg_start, len(result))\n"
     ]
    }
   ],
   "source": [
    "# выводим метрики\n",
    "print(classification_report(y_test, predict_nb, digits = 4))"
   ]
  },
  {
   "cell_type": "markdown",
   "metadata": {},
   "source": [
    "DecisionTreeClassifier"
   ]
  },
  {
   "cell_type": "code",
   "execution_count": 29,
   "metadata": {},
   "outputs": [
    {
     "name": "stdout",
     "output_type": "stream",
     "text": [
      "0.3815557841441917\n",
      "{'dtc__criterion': 'gini', 'dtc__max_depth': 10, 'dtc__splitter': 'best', 'pca__n_components': 10}\n"
     ]
    }
   ],
   "source": [
    "# находим оптимальные параметры для RandomForestClassifier, используя поиск по сетке параметров\n",
    "# и k-блочную перекрестную проверку (cv = 10)\n",
    "pipe_dtc = Pipeline([('scl', StandardScaler()),\n",
    "                    ('pca', PCA()),\n",
    "                    ('dtc', DecisionTreeClassifier())])\n",
    "param_range_dtc = [['gini', 'entropy'], [5, 8, 10, 25, 35, None], [0.1, 0.5, 1, 5, 10], ['best', 'random']]\n",
    "\n",
    "param_grid_dtc = [{'pca__n_components': param_range_dtc[1],\n",
    "               'dtc__criterion': param_range_dtc[0],\n",
    "               'dtc__max_depth': param_range_dtc[2],\n",
    "               'dtc__splitter': param_range_dtc[3]}\n",
    "             ]\n",
    "scorer_2 = make_scorer(score_func=f1_score, average='weighted')\n",
    "gs_dtc = GridSearchCV(estimator=pipe_dtc,\n",
    "                  param_grid=param_grid_dtc,\n",
    "                  scoring=scorer_2,\n",
    "                  verbose = 0,\n",
    "                  cv = 10)\n",
    "\n",
    "# scores = cross_val_score(gs, \n",
    "#                          X = X_train,\n",
    "#                          y = y_train,\n",
    "#                          scoring=scorer_2,\n",
    "#                          cv = 2)\n",
    "# print('Перекрестно-проверочная верность: {:.0%} +/- {:.0%}'.format(np.mean(scores), np.std(scores)))\n",
    "gs_dtc = gs_dtc.fit(X_train, y_train)\n",
    "print(gs_dtc.best_score_)\n",
    "print(gs_dtc.best_params_)"
   ]
  },
  {
   "cell_type": "code",
   "execution_count": 30,
   "metadata": {},
   "outputs": [],
   "source": [
    "# задаем лучшие параметры для работы с тестовыми данными\n",
    "clf_dtf=gs_dtc.best_estimator_\n",
    "# обучаем на train\n",
    "clf_dtf_train=clf_dtf.fit(X_train, y_train)\n",
    "# находим предскания для test\n",
    "predict_dtf = clf_dtf_train.predict(X_test)"
   ]
  },
  {
   "cell_type": "code",
   "execution_count": 31,
   "metadata": {},
   "outputs": [
    {
     "name": "stdout",
     "output_type": "stream",
     "text": [
      "              precision    recall  f1-score   support\n",
      "\n",
      "           0     0.2121    0.2154    0.2137        65\n",
      "           1     0.0000    0.0000    0.0000        11\n",
      "           2     0.6312    0.6449    0.6380       138\n",
      "           3     0.1304    0.0952    0.1101        63\n",
      "           4     0.1918    0.2414    0.2137        58\n",
      "           5     0.4186    0.3103    0.3564        58\n",
      "           6     0.3577    0.4356    0.3929       101\n",
      "\n",
      "    accuracy                         0.3745       494\n",
      "   macro avg     0.2774    0.2776    0.2750       494\n",
      "weighted avg     0.3657    0.3745    0.3677       494\n",
      "\n"
     ]
    }
   ],
   "source": [
    "# выводим метрики\n",
    "print(classification_report(y_test, predict_dtf, digits = 4))"
   ]
  },
  {
   "cell_type": "markdown",
   "metadata": {},
   "source": [
    "SVM"
   ]
  },
  {
   "cell_type": "code",
   "execution_count": 32,
   "metadata": {},
   "outputs": [
    {
     "name": "stdout",
     "output_type": "stream",
     "text": [
      "Перекрестно-проверочная верность: 47%\n",
      "{'pca__n_components': 35, 'svm__C': 10, 'svm__gamma': 0.01, 'svm__kernel': 'rbf'}\n"
     ]
    }
   ],
   "source": [
    "# находим оптимальные параметры для RandomForestClassifier, используя поиск по сетке параметров\n",
    "# и k-блочную перекрестную проверку (cv = 10)\n",
    "pipe_svm = Pipeline([('scl', StandardScaler()),\n",
    "                    ('pca', PCA()),\n",
    "                    ('svm', SVC())])\n",
    "param_range = [[5, 8, 10, 25, 35, None], \n",
    "               [0.001, 0.01, 0.1, 1, 10, 50, 100]]\n",
    "\n",
    "param_grid = [{'pca__n_components': param_range[0],\n",
    "               'svm__kernel': ['linear'],\n",
    "               'svm__C': param_range[1]},\n",
    "              {'pca__n_components': param_range[0],\n",
    "               'svm__kernel': ['rbf'],\n",
    "               'svm__gamma': param_range[1],\n",
    "               'svm__C': param_range[1]},\n",
    "             ]\n",
    "scorer_2 = make_scorer(score_func=f1_score, average='weighted')\n",
    "gs_svm = GridSearchCV(estimator=pipe_svm,\n",
    "                  param_grid=param_grid,\n",
    "                  scoring=scorer_2,\n",
    "                  verbose = 0,\n",
    "                  cv = 10)\n",
    "\n",
    "# scores = cross_val_score(gs, \n",
    "#                          X = X_train,\n",
    "#                          y = y_train,\n",
    "#                          scoring=scorer_2,\n",
    "#                          cv = 2)\n",
    "# print('Перекрестно-проверочная верность: {:.0%} +/- {:.0%}'.format(np.mean(scores), np.std(scores)))\n",
    "gs_svm = gs_svm.fit(X_train, y_train)\n",
    "print('Перекрестно-проверочная верность: {:.0%}'.format(gs_svm.best_score_))\n",
    "print(gs_svm.best_params_)"
   ]
  },
  {
   "cell_type": "code",
   "execution_count": 35,
   "metadata": {},
   "outputs": [],
   "source": [
    "# задаем лучшие параметры для работы с тестовыми данными\n",
    "clf_svm=gs_svm.best_estimator_\n",
    "# обучаем на train\n",
    "clf_svm_train=clf_svm.fit(X_train, y_train)\n",
    "# находим предскания для test\n",
    "predict_dtf = clf_svm_train.predict(X_test)"
   ]
  },
  {
   "cell_type": "code",
   "execution_count": 36,
   "metadata": {},
   "outputs": [
    {
     "name": "stdout",
     "output_type": "stream",
     "text": [
      "              precision    recall  f1-score   support\n",
      "\n",
      "           0     0.3699    0.4154    0.3913        65\n",
      "           1     0.0000    0.0000    0.0000        11\n",
      "           2     0.7212    0.8623    0.7855       138\n",
      "           3     0.3000    0.1429    0.1935        63\n",
      "           4     0.2286    0.1379    0.1720        58\n",
      "           5     0.5263    0.5172    0.5217        58\n",
      "           6     0.4328    0.5743    0.4936       101\n",
      "\n",
      "    accuracy                         0.5081       494\n",
      "   macro avg     0.3684    0.3786    0.3654       494\n",
      "weighted avg     0.4655    0.5081    0.4780       494\n",
      "\n"
     ]
    },
    {
     "name": "stderr",
     "output_type": "stream",
     "text": [
      "c:\\users\\ryumi\\desktop\\venv\\3_7_5\\lib\\site-packages\\sklearn\\metrics\\_classification.py:1268: UndefinedMetricWarning: Precision and F-score are ill-defined and being set to 0.0 in labels with no predicted samples. Use `zero_division` parameter to control this behavior.\n",
      "  _warn_prf(average, modifier, msg_start, len(result))\n"
     ]
    }
   ],
   "source": [
    "# выводим метрики\n",
    "print(classification_report(y_test, predict_svm, digits = 4))"
   ]
  },
  {
   "cell_type": "markdown",
   "metadata": {},
   "source": [
    "Итого, как мы можем заметить по Pipeline +  GridSearchCV являются удобными в использовании. Можно заметить по best_params_, что оптимальным значение явлется количество главных компонент 8, 10, 35. По метрике f_score(weigthted avg) лучше всего себя показал SVM (47,80%) с best_params_={'clf__max_depth': 10, 'clf__n_estimators': 60, 'pca__n_components': 8}. Кроме того, из наблюдений можно сделать вывод, что самым долгим классификатором является SVM - обрабатывал поиск по сетке 4 часа, т.к другие представленные классификаторы справлялись менее чем за пол часа. В том числе из-за недостатка обучающих примеров по классу 1('Disgusted' - 33 наблюдения), ни один из классификаторов не смог классифицировать Disgusted на тестовом наборе."
   ]
  },
  {
   "cell_type": "markdown",
   "metadata": {},
   "source": [
    "Задание 3. Реализовать ансамбли моделей (мажоритарное голосование, бэггинг, бустинг)"
   ]
  },
  {
   "cell_type": "markdown",
   "metadata": {},
   "source": [
    "Мажоритарное голосование"
   ]
  },
  {
   "cell_type": "code",
   "execution_count": 38,
   "metadata": {},
   "outputs": [],
   "source": [
    "from sklearn.ensemble import VotingClassifier"
   ]
  },
  {
   "cell_type": "code",
   "execution_count": 39,
   "metadata": {},
   "outputs": [
    {
     "name": "stdout",
     "output_type": "stream",
     "text": [
      "10-блочная перекрестная проверка:\n",
      "\n",
      "f1_score: 0.46 +/- 0.01  Метод опорных векторов\n",
      "f1_score: 0.37 +/- 0.01  Дерево решений\n",
      "f1_score: 0.44 +/- 0.01  Наивный байесовский классификатор\n",
      "f1_score: 0.43 +/- 0.00  Случайный лес\n",
      "f1_score: 0.45 +/- 0.01  Мажоритарное голосование\n"
     ]
    }
   ],
   "source": [
    "mv_clf = VotingClassifier(estimators = [('svm',clf_svm), ('dtf', clf_dtf), \n",
    "                                        ('nb', clf_nb), ('rft', clf_rfc)], voting='hard')\n",
    "\n",
    "# clf_labels += ['Мажоритарное голосование']\n",
    "clf_labels = ['Метод опорных векторов', 'Дерево решений',\n",
    "              'Наивный байесовский классификатор', 'Случайный лес',\n",
    "              'Мажоритарное голосование']\n",
    "\n",
    "all_clf = [clf_svm, clf_dtf, clf_nb, clf_rfc, mv_clf]\n",
    "\n",
    "print('10-блочная перекрестная проверка:\\n')\n",
    "\n",
    "for clf, label in zip(all_clf, clf_labels):\n",
    "    scores = cross_val_score(clf, \n",
    "                         X = X_train,\n",
    "                         y = y_train,\n",
    "                         scoring=scorer_2,\n",
    "                         cv = 2)\n",
    "    print('f1_score: {:.2f} +/- {:.2f}  {}'.format(np.mean(scores), np.std(scores), label))"
   ]
  },
  {
   "cell_type": "code",
   "execution_count": 40,
   "metadata": {},
   "outputs": [],
   "source": [
    "# обучение модели\n",
    "mv_clf=mv_clf.fit(X_train, y_train)\n",
    "# предсказание\n",
    "predict_mv_clf = mv_clf.predict(X_test)"
   ]
  },
  {
   "cell_type": "code",
   "execution_count": 41,
   "metadata": {},
   "outputs": [
    {
     "name": "stdout",
     "output_type": "stream",
     "text": [
      "              precision    recall  f1-score   support\n",
      "\n",
      "           0     0.4000    0.4615    0.4286        65\n",
      "           1     0.0000    0.0000    0.0000        11\n",
      "           2     0.6784    0.8406    0.7508       138\n",
      "           3     0.2759    0.1270    0.1739        63\n",
      "           4     0.3448    0.1724    0.2299        58\n",
      "           5     0.5686    0.5000    0.5321        58\n",
      "           6     0.4245    0.5842    0.4917       101\n",
      "\n",
      "    accuracy                         0.5101       494\n",
      "   macro avg     0.3846    0.3837    0.3724       494\n",
      "weighted avg     0.4713    0.5101    0.4783       494\n",
      "\n"
     ]
    },
    {
     "name": "stderr",
     "output_type": "stream",
     "text": [
      "c:\\users\\ryumi\\desktop\\venv\\3_7_5\\lib\\site-packages\\sklearn\\metrics\\_classification.py:1268: UndefinedMetricWarning: Precision and F-score are ill-defined and being set to 0.0 in labels with no predicted samples. Use `zero_division` parameter to control this behavior.\n",
      "  _warn_prf(average, modifier, msg_start, len(result))\n"
     ]
    }
   ],
   "source": [
    "# выводим метрики\n",
    "print(classification_report(y_test, predict_mv_clf, digits = 4))"
   ]
  },
  {
   "cell_type": "markdown",
   "metadata": {},
   "source": [
    "Как можно заметить, мажоритарное голосование увеличивает метрику f1-score(weighted avg ) на 0,03%. Что является незначительным увеличением."
   ]
  },
  {
   "cell_type": "markdown",
   "metadata": {},
   "source": [
    "Бэггинг"
   ]
  },
  {
   "cell_type": "code",
   "execution_count": 8,
   "metadata": {},
   "outputs": [],
   "source": [
    "from sklearn.ensemble import BaggingClassifier"
   ]
  },
  {
   "cell_type": "code",
   "execution_count": 46,
   "metadata": {},
   "outputs": [],
   "source": [
    "tree = DecisionTreeClassifier()"
   ]
  },
  {
   "cell_type": "code",
   "execution_count": 27,
   "metadata": {},
   "outputs": [],
   "source": [
    "pipe_bag = Pipeline([ ('scl', StandardScaler()),\n",
    "#                     ('pca', PCA()),\n",
    "#                     ('free', free),\n",
    "                    ('bag', BaggingClassifier(base_estimator=tree))\n",
    "                    ])"
   ]
  },
  {
   "cell_type": "code",
   "execution_count": 28,
   "metadata": {},
   "outputs": [
    {
     "data": {
      "text/plain": [
       "Pipeline(memory=None,\n",
       "         steps=[('scl',\n",
       "                 StandardScaler(copy=True, with_mean=True, with_std=True)),\n",
       "                ('bag',\n",
       "                 BaggingClassifier(base_estimator=DecisionTreeClassifier(ccp_alpha=0.0,\n",
       "                                                                         class_weight=None,\n",
       "                                                                         criterion='gini',\n",
       "                                                                         max_depth=None,\n",
       "                                                                         max_features=None,\n",
       "                                                                         max_leaf_nodes=None,\n",
       "                                                                         min_impurity_decrease=0.0,\n",
       "                                                                         min_impurity_split=None,\n",
       "                                                                         min_samples_leaf=1,\n",
       "                                                                         min_samples_split=2,\n",
       "                                                                         min_weight_fraction_leaf=0.0,\n",
       "                                                                         presort='deprecated',\n",
       "                                                                         random_state=None,\n",
       "                                                                         splitter='best'),\n",
       "                                   bootstrap=True, bootstrap_features=False,\n",
       "                                   max_features=1.0, max_samples=1.0,\n",
       "                                   n_estimators=10, n_jobs=None,\n",
       "                                   oob_score=False, random_state=None,\n",
       "                                   verbose=0, warm_start=False))],\n",
       "         verbose=False)"
      ]
     },
     "execution_count": 28,
     "metadata": {},
     "output_type": "execute_result"
    }
   ],
   "source": [
    "pipe_bag"
   ]
  },
  {
   "cell_type": "code",
   "execution_count": 38,
   "metadata": {},
   "outputs": [],
   "source": [
    "pipe_parameter = [\n",
    "#                     'pca__n_components': (5, 8, 10, 15, 20, 35, None),\n",
    "#                     'bag__base_estimator__max_depth':  (1, 3, 5, 7, None),\n",
    "#                     'bag__base_estimator__random_state': (1, 3, 5, 7, None),\n",
    "#                     'bag__n_estimators': (100, 250, 400, 550, 700),\n",
    "#                     'bag__random_state': (1, 3, 5, 7, None),\n",
    "                    {'bag__base_estimator__criterion': ['entropy', 'gini'],\n",
    "                    'bag__base_estimator__max_depth': [None],\n",
    "                    'bag__base_estimator__random_state': [1],\n",
    "                    'bag__n_estimators': [500, 600],\n",
    "                    'bag__random_state': [1]},\n",
    "                    {'bag__base_estimator__criterion': ['entropy', 'gini'],\n",
    "                    'bag__base_estimator__max_depth':  [1],\n",
    "                    'bag__base_estimator__random_state': [0],\n",
    "                    'bag__n_estimators': [500, 600],\n",
    "                    'bag__random_state': [0]}\n",
    "                    ]"
   ]
  },
  {
   "cell_type": "code",
   "execution_count": 39,
   "metadata": {},
   "outputs": [],
   "source": [
    "scorer_2 = make_scorer(score_func=f1_score, average='weighted')\n",
    "gs_bag = GridSearchCV(estimator=pipe_bag,\n",
    "                  param_grid=pipe_parameter,\n",
    "                  scoring=scorer_2,\n",
    "                  verbose = 0,\n",
    "                  cv = 10)"
   ]
  },
  {
   "cell_type": "code",
   "execution_count": 40,
   "metadata": {},
   "outputs": [
    {
     "name": "stdout",
     "output_type": "stream",
     "text": [
      "Перекрестно-проверочная верность: 47%\n",
      "{'bag__base_estimator__criterion': 'gini', 'bag__base_estimator__max_depth': None, 'bag__base_estimator__random_state': 1, 'bag__n_estimators': 500, 'bag__random_state': 1}\n"
     ]
    }
   ],
   "source": [
    "gs_bag = gs_bag.fit(X_train, y_train)\n",
    "print('Перекрестно-проверочная верность: {:.0%}'.format(gs_bag.best_score_))\n",
    "print(gs_bag.best_params_)"
   ]
  },
  {
   "cell_type": "code",
   "execution_count": 41,
   "metadata": {},
   "outputs": [],
   "source": [
    "# задаем лучшие параметры для работы с тестовыми данными\n",
    "gs_bag=gs_bag.best_estimator_\n",
    "# обучаем на train\n",
    "gs_bag_train=gs_bag.fit(X_train, y_train)\n",
    "# находим предскания для test\n",
    "predict_bag = gs_bag_train.predict(X_test)"
   ]
  },
  {
   "cell_type": "code",
   "execution_count": 42,
   "metadata": {},
   "outputs": [
    {
     "name": "stdout",
     "output_type": "stream",
     "text": [
      "              precision    recall  f1-score   support\n",
      "\n",
      "           0     0.3913    0.4154    0.4030        65\n",
      "           1     0.0000    0.0000    0.0000        11\n",
      "           2     0.6588    0.8116    0.7273       138\n",
      "           3     0.2778    0.1587    0.2020        63\n",
      "           4     0.3750    0.2069    0.2667        58\n",
      "           5     0.5636    0.5345    0.5487        58\n",
      "           6     0.4091    0.5347    0.4635       101\n",
      "\n",
      "    accuracy                         0.4980       494\n",
      "   macro avg     0.3822    0.3802    0.3730       494\n",
      "weighted avg     0.4648    0.4980    0.4724       494\n",
      "\n"
     ]
    },
    {
     "name": "stderr",
     "output_type": "stream",
     "text": [
      "c:\\users\\ryumi\\desktop\\venv\\3_7_5\\lib\\site-packages\\sklearn\\metrics\\_classification.py:1268: UndefinedMetricWarning: Precision and F-score are ill-defined and being set to 0.0 in labels with no predicted samples. Use `zero_division` parameter to control this behavior.\n",
      "  _warn_prf(average, modifier, msg_start, len(result))\n"
     ]
    }
   ],
   "source": [
    "# выводим метрики\n",
    "print(classification_report(y_test, predict_bag, digits = 4))"
   ]
  },
  {
   "cell_type": "markdown",
   "metadata": {},
   "source": [
    "Так как вычислительные затраты высоки при определении оптимальных параметров для BaggingClassifier, представлены только некоторые комбинации параметров, как можно заметить f1-score(weighted avg) составляет 47,24 % что не превышает, результаты полученные ранее при мажоритарном голосовании (47,83%), но использование только DecisionTreeClassifier меньше полученного результата на 10%. "
   ]
  },
  {
   "cell_type": "markdown",
   "metadata": {},
   "source": [
    "Бустинг"
   ]
  },
  {
   "cell_type": "code",
   "execution_count": 43,
   "metadata": {},
   "outputs": [],
   "source": [
    "from sklearn.ensemble import AdaBoostClassifier"
   ]
  },
  {
   "cell_type": "code",
   "execution_count": 47,
   "metadata": {},
   "outputs": [],
   "source": [
    "pipe_boost = Pipeline([\n",
    "                        ('scl', StandardScaler()),\n",
    "#                         ('pca', PCA(n_components=8)),\n",
    "                        ('boost', AdaBoostClassifier(base_estimator=tree))\n",
    "                        ])"
   ]
  },
  {
   "cell_type": "code",
   "execution_count": 50,
   "metadata": {},
   "outputs": [],
   "source": [
    "pipe_parameter_boost = [\n",
    "#                     'pca__n_components': (5, 8, 10, 15, 20, 35, None),\n",
    "#                     'bag__base_estimator__max_depth':  (1, 3, 5, 7, None),\n",
    "#                     'bag__base_estimator__random_state': (1, 3, 5, 7, None),\n",
    "#                     'bag__n_estimators': (100, 250, 400, 550, 700),\n",
    "#                     'bag__random_state': (1, 3, 5, 7, None),\n",
    "                    {'boost__base_estimator__criterion': ['entropy', 'gini'],\n",
    "                    'boost__base_estimator__max_depth': [None],\n",
    "                    'boost__base_estimator__random_state': [1],\n",
    "                    'boost__n_estimators': [500, 600],\n",
    "                    'boost__random_state': [1],\n",
    "                    'boost__learning_rate': [0.01, 0.1, 1.]},\n",
    "                    {\n",
    "                    'boost__base_estimator__criterion': ['entropy', 'gini'],\n",
    "                    'boost__base_estimator__max_depth':  [1],\n",
    "                    'boost__base_estimator__random_state': [0],\n",
    "                    'boost__n_estimators': [500, 600],\n",
    "                    'boost__random_state': [0],\n",
    "                    'boost__learning_rate': [0.01, 0.1, 1.]}\n",
    "                    ]"
   ]
  },
  {
   "cell_type": "code",
   "execution_count": 51,
   "metadata": {},
   "outputs": [],
   "source": [
    "scorer_2 = make_scorer(score_func=f1_score, average='weighted')\n",
    "gs_boost = GridSearchCV(estimator=pipe_boost,\n",
    "                  param_grid=pipe_parameter_boost,\n",
    "                  scoring=scorer_2,\n",
    "                  verbose = 0,\n",
    "                  cv = 10)"
   ]
  },
  {
   "cell_type": "code",
   "execution_count": 52,
   "metadata": {},
   "outputs": [
    {
     "name": "stdout",
     "output_type": "stream",
     "text": [
      "Перекрестно-проверочная верность: 42%\n",
      "{'boost__base_estimator__criterion': 'gini', 'boost__base_estimator__max_depth': 1, 'boost__base_estimator__random_state': 0, 'boost__learning_rate': 0.1, 'boost__n_estimators': 500, 'boost__random_state': 0}\n"
     ]
    }
   ],
   "source": [
    "gs_boost = gs_boost.fit(X_train, y_train)\n",
    "print('Перекрестно-проверочная верность: {:.0%}'.format(gs_boost.best_score_))\n",
    "print(gs_boost.best_params_)"
   ]
  },
  {
   "cell_type": "code",
   "execution_count": 53,
   "metadata": {},
   "outputs": [],
   "source": [
    "# задаем лучшие параметры для работы с тестовыми данными\n",
    "gs_boost=gs_boost.best_estimator_\n",
    "# обучаем на train\n",
    "gs_boost_train=gs_boost.fit(X_train, y_train)\n",
    "# находим предскания для test\n",
    "predict_boost = gs_boost_train.predict(X_test)"
   ]
  },
  {
   "cell_type": "code",
   "execution_count": 79,
   "metadata": {},
   "outputs": [
    {
     "name": "stdout",
     "output_type": "stream",
     "text": [
      "              precision    recall  f1-score   support\n",
      "\n",
      "           0     0.4667    0.4308    0.4480        65\n",
      "           1     0.0000    0.0000    0.0000        11\n",
      "           2     0.6527    0.7899    0.7148       138\n",
      "           3     0.2857    0.0952    0.1429        63\n",
      "           4     0.2286    0.2759    0.2500        58\n",
      "           5     0.6190    0.4483    0.5200        58\n",
      "           6     0.4030    0.5347    0.4596       101\n",
      "\n",
      "    accuracy                         0.4838       494\n",
      "   macro avg     0.3794    0.3678    0.3622       494\n",
      "weighted avg     0.4621    0.4838    0.4612       494\n",
      "\n"
     ]
    },
    {
     "name": "stderr",
     "output_type": "stream",
     "text": [
      "c:\\users\\ryumi\\desktop\\venv\\3_7_5\\lib\\site-packages\\sklearn\\metrics\\_classification.py:1268: UndefinedMetricWarning: Precision and F-score are ill-defined and being set to 0.0 in labels with no predicted samples. Use `zero_division` parameter to control this behavior.\n",
      "  _warn_prf(average, modifier, msg_start, len(result))\n"
     ]
    }
   ],
   "source": [
    "# выводим метрики\n",
    "print(classification_report(y_test, predict_boost, digits = 4))"
   ]
  },
  {
   "cell_type": "markdown",
   "metadata": {},
   "source": [
    "Как можно заметить по проделанной работе, использование ансамблевых методов таких как AdaBoostClassifier и BaggingClassifier оказалось не эффективным для рассматриваемой базы данных. Мажоритарное голосование же дает прирост в 0.03% по сравнению с результатом, полученным классификатором SVM (47,8%)."
   ]
  }
 ],
 "metadata": {
  "kernelspec": {
   "display_name": "Python 3",
   "language": "python",
   "name": "python3"
  },
  "language_info": {
   "codemirror_mode": {
    "name": "ipython",
    "version": 3
   },
   "file_extension": ".py",
   "mimetype": "text/x-python",
   "name": "python",
   "nbconvert_exporter": "python",
   "pygments_lexer": "ipython3",
   "version": "3.7.5"
  }
 },
 "nbformat": 4,
 "nbformat_minor": 2
}
